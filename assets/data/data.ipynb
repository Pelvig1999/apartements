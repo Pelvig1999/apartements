{
 "cells": [
  {
   "cell_type": "markdown",
   "metadata": {},
   "source": [
    "<br>\n",
    "\n",
    "## random shit"
   ]
  },
  {
   "cell_type": "code",
   "execution_count": null,
   "metadata": {},
   "outputs": [],
   "source": [
    "import sys\n",
    "#!{sys.executable} -m pip install httpx\n",
    "#!{sys.executable} -m pip install --upgrade pip\n",
    "#!{sys.executable} -m pip install sweetviz\n",
    "#!{sys.executable} -m pip install ipyleaflet"
   ]
  },
  {
   "cell_type": "markdown",
   "metadata": {},
   "source": [
    "<br>\n",
    "\n",
    "## import libraries"
   ]
  },
  {
   "cell_type": "code",
   "execution_count": null,
   "metadata": {},
   "outputs": [],
   "source": [
    "import pandas as pd\n",
    "import httpx\n",
    "import numpy as np\n",
    "from scipy import stats\n",
    "import matplotlib.pyplot as plt\n",
    "import plotly.express as px\n",
    "import sweetviz as sv\n",
    "import seaborn as sns\n",
    "from ipyleaflet import Map, Marker, basemaps, LayersControl\n"
   ]
  },
  {
   "cell_type": "code",
   "execution_count": null,
   "metadata": {},
   "outputs": [],
   "source": [
    "#pip install plotly"
   ]
  },
  {
   "cell_type": "markdown",
   "metadata": {},
   "source": [
    "<br>\n",
    "\n",
    "## scrape home"
   ]
  },
  {
   "cell_type": "code",
   "execution_count": null,
   "metadata": {},
   "outputs": [],
   "source": [
    "URI = \"https://home.dk/umbraco/backoffice/home-api/Search\"\n",
    "\n",
    "params_k = dict(CurrentPageNumber=2,\n",
    "              SearchResultsPerPage=800,\n",
    "              q=\"København kommune\",\n",
    "              BoligKanLejes=True,\n",
    "              BoligTilSalg=True,\n",
    "              SearchType=0)\n",
    "\n",
    "params_f = dict(CurrentPageNumber=2,\n",
    "              SearchResultsPerPage=800,\n",
    "              q=\"Frederiksberg kommune\",\n",
    "              BoligKanLejes=True,\n",
    "              BoligTilSalg=True,\n",
    "              SearchType=0)"
   ]
  },
  {
   "cell_type": "code",
   "execution_count": null,
   "metadata": {},
   "outputs": [],
   "source": [
    "scrape_k = httpx.get(url=URI, params=params_k)\n",
    "scrape_f = httpx.get(url=URI, params=params_f)"
   ]
  },
  {
   "cell_type": "code",
   "execution_count": null,
   "metadata": {},
   "outputs": [],
   "source": [
    "data_k = scrape_k.json()\n",
    "data_f = scrape_f.json()\n",
    "#data.keys()"
   ]
  },
  {
   "cell_type": "code",
   "execution_count": null,
   "metadata": {},
   "outputs": [],
   "source": [
    "#pd.DataFrame(data[\"searchResults\"])"
   ]
  },
  {
   "cell_type": "markdown",
   "metadata": {},
   "source": [
    "<br>\n",
    "\n",
    "## scrape boliga"
   ]
  },
  {
   "cell_type": "code",
   "execution_count": null,
   "metadata": {},
   "outputs": [],
   "source": [
    "URI = \"https://api.boliga.dk/api/v2/sold/search/results\"\n",
    "\n",
    "params_k = dict(searchTab=1,\n",
    "              propertyType=3,\n",
    "              municipality=101,\n",
    "              page=1,\n",
    "              sort=\"date-d\",\n",
    ")\n",
    "\n",
    "params_f = dict(searchTab=1,\n",
    "              propertyType=3,\n",
    "              municipality=147,\n",
    "              page=1,\n",
    "              sort=\"date-d\",\n",
    ")"
   ]
  },
  {
   "cell_type": "code",
   "execution_count": null,
   "metadata": {},
   "outputs": [],
   "source": [
    "r_k = httpx.get(url=URI, params=params_k)\n",
    "r_f = httpx.get(url=URI, params=params_f)"
   ]
  },
  {
   "cell_type": "code",
   "execution_count": null,
   "metadata": {},
   "outputs": [],
   "source": [
    "data_k = r_k.json()\n",
    "data_f = r_f.json()\n",
    "pages_k = data_k[\"meta\"][\"totalPages\"] + 1 # Python starts are zero\n",
    "pages_f = data_f[\"meta\"][\"totalPages\"] + 1 # Python starts are zero"
   ]
  },
  {
   "cell_type": "code",
   "execution_count": null,
   "metadata": {},
   "outputs": [],
   "source": [
    "def scrape_to_data(pages, params):\n",
    "    storage = []\n",
    "    for page in range(1, pages):\n",
    "\n",
    "        params[\"page\"] = page\n",
    "        r = httpx.get(url=URI, params=params, timeout=30)\n",
    "\n",
    "        storage.extend(r.json()[\"results\"])\n",
    "\n",
    "        if page % 100 == 0:\n",
    "            print(f'{page} of pages')\n",
    "    \n",
    "    print(f\"completed {pages} pages\")\n",
    "\n",
    "    return pd.DataFrame(storage)\n",
    "\n",
    "df_k = scrape_to_data(pages_k, params_k)\n",
    "df_f = scrape_to_data(pages_f, params_f)"
   ]
  },
  {
   "cell_type": "code",
   "execution_count": null,
   "metadata": {},
   "outputs": [],
   "source": [
    "df = pd.concat([df_f,df_k])\n",
    "df"
   ]
  },
  {
   "cell_type": "markdown",
   "metadata": {},
   "source": [
    "<br>\n",
    "\n",
    "### Conversion to csv file"
   ]
  },
  {
   "cell_type": "code",
   "execution_count": null,
   "metadata": {},
   "outputs": [],
   "source": [
    "df.to_csv(\"bolig.csv.gzip\", compression=\"gzip\", index=False)"
   ]
  },
  {
   "cell_type": "markdown",
   "metadata": {},
   "source": [
    "<br>\n",
    "\n",
    "### Reading the csv file so there is no need for scraping the website boliga again. \n",
    " Last scraped Tuesday the 26.09.2023"
   ]
  },
  {
   "cell_type": "code",
   "execution_count": null,
   "metadata": {},
   "outputs": [],
   "source": [
    "df = pd.read_csv(\"assets/data/bolig.csv.gzip\", compression=\"gzip\")\n",
    "df"
   ]
  },
  {
   "cell_type": "markdown",
   "metadata": {},
   "source": [
    "<br>\n",
    "\n",
    "## Importér prisindex"
   ]
  },
  {
   "cell_type": "code",
   "execution_count": null,
   "metadata": {},
   "outputs": [],
   "source": [
    "pris_index = pd.read_csv(\"prisindex.csv\",sep=\";\")\n",
    "pris_index.T.reset_index()\n",
    "#collect the year 1992-2023 and the right region (københavn+frederiksberg)"
   ]
  },
  {
   "cell_type": "markdown",
   "metadata": {},
   "source": [
    "<br>\n",
    "\n",
    "## Data filtration"
   ]
  },
  {
   "cell_type": "code",
   "execution_count": null,
   "metadata": {},
   "outputs": [],
   "source": [
    "alm_salg_df = df[df['saleType'] == 'Alm. Salg']\n"
   ]
  },
  {
   "cell_type": "code",
   "execution_count": null,
   "metadata": {},
   "outputs": [],
   "source": [
    "alm_salg_df"
   ]
  },
  {
   "cell_type": "code",
   "execution_count": null,
   "metadata": {},
   "outputs": [],
   "source": []
  },
  {
   "cell_type": "markdown",
   "metadata": {},
   "source": [
    "<br>\n",
    "\n",
    "### Analysis Tool"
   ]
  },
  {
   "cell_type": "code",
   "execution_count": null,
   "metadata": {},
   "outputs": [],
   "source": [
    "report = sv.analyze(alm_salg_df)\n",
    "report.show_html()"
   ]
  },
  {
   "cell_type": "markdown",
   "metadata": {},
   "source": [
    "<br>\n",
    "\n",
    "## Most Common "
   ]
  },
  {
   "cell_type": "code",
   "execution_count": null,
   "metadata": {},
   "outputs": [],
   "source": [
    "alm_salg_df[['rooms','price','zipCode','buildYear','sqmPrice']].describe().T"
   ]
  },
  {
   "cell_type": "code",
   "execution_count": null,
   "metadata": {},
   "outputs": [],
   "source": [
    "alm_salg_df[['rooms']].value_counts(normalize=True)\n",
    "#not include something that is under 0.001%procent\n",
    "#include from 0.05%<\n",
    "#the roomes should be from 1-5 "
   ]
  },
  {
   "cell_type": "code",
   "execution_count": null,
   "metadata": {},
   "outputs": [],
   "source": [
    "alm_salg_df['price'].min()\n"
   ]
  },
  {
   "cell_type": "code",
   "execution_count": null,
   "metadata": {},
   "outputs": [],
   "source": [
    "pd.cut(alm_salg_df['price'],15)"
   ]
  },
  {
   "cell_type": "code",
   "execution_count": null,
   "metadata": {},
   "outputs": [],
   "source": [
    "most_common_room = alm_salg_df['rooms'].value_counts().idxmax()\n",
    "print('Most common number of roomes:',most_common_room)"
   ]
  },
  {
   "cell_type": "code",
   "execution_count": null,
   "metadata": {},
   "outputs": [],
   "source": [
    "most_common_price = alm_salg_df['price'].value_counts().idxmax()\n",
    "print('Most common salespice:', most_common_price)"
   ]
  },
  {
   "cell_type": "code",
   "execution_count": null,
   "metadata": {},
   "outputs": [],
   "source": [
    "most_common_zip =  alm_salg_df['zipCode'].value_counts().idxmax()\n",
    "print('Most common zip-code:',most_common_zip)"
   ]
  },
  {
   "cell_type": "code",
   "execution_count": null,
   "metadata": {},
   "outputs": [],
   "source": [
    "most_common_buildYear = alm_salg_df['buildYear'].value_counts().idxmax()\n",
    "print('Most common build year:',most_common_buildYear)"
   ]
  },
  {
   "cell_type": "code",
   "execution_count": null,
   "metadata": {},
   "outputs": [],
   "source": [
    "mean_sqmPrice = alm_salg_df['sqmPrice'].mean()\n",
    "print('Most common square meter price:',mean_sqmPrice)"
   ]
  },
  {
   "cell_type": "code",
   "execution_count": null,
   "metadata": {},
   "outputs": [],
   "source": [
    "import matplotlib.pyplot as plt"
   ]
  },
  {
   "cell_type": "markdown",
   "metadata": {},
   "source": [
    "<br>\n",
    "\n",
    "## Histogrammer"
   ]
  },
  {
   "cell_type": "markdown",
   "metadata": {},
   "source": [
    "<br>\n",
    "\n",
    "Filtrering af lejligheder der koster over en halv mio"
   ]
  },
  {
   "cell_type": "code",
   "execution_count": null,
   "metadata": {},
   "outputs": [],
   "source": [
    "alm_salg_df[alm_salg_df['price'] < 5e5]"
   ]
  },
  {
   "cell_type": "markdown",
   "metadata": {},
   "source": [
    "<br>\n",
    "\n",
    "### Filtrering så vi har salgspriser fra 500.000 til 15 mio"
   ]
  },
  {
   "cell_type": "code",
   "execution_count": null,
   "metadata": {},
   "outputs": [],
   "source": [
    "alm_salg_df[(alm_salg_df['price'] > 5e5) & (alm_salg_df['price'] < 15e6)]['sqmPrice'].hist(bins=100)"
   ]
  },
  {
   "cell_type": "code",
   "execution_count": null,
   "metadata": {},
   "outputs": [],
   "source": [
    "print('First sold appartment date:',df['soldDate'].min() )\n"
   ]
  },
  {
   "cell_type": "code",
   "execution_count": null,
   "metadata": {},
   "outputs": [],
   "source": [
    "alm_salg_df[(alm_salg_df['zipCode'] < 1650) & (alm_salg_df['sqmPrice'] < 200000)]['sqmPrice'].hist()"
   ]
  },
  {
   "cell_type": "markdown",
   "metadata": {},
   "source": [
    "<br>\n",
    "\n",
    "## Scatter Plot af KBH"
   ]
  },
  {
   "cell_type": "code",
   "execution_count": null,
   "metadata": {},
   "outputs": [],
   "source": [
    "cities = alm_salg_df.groupby(['city']).size().reset_index(name='count')\n",
    "cities"
   ]
  },
  {
   "cell_type": "code",
   "execution_count": null,
   "metadata": {},
   "outputs": [],
   "source": [
    "# Group by 'city' and get the distinct zip codes for each city\n",
    "city_zip_codes = alm_salg_df.groupby('city')['zipCode'].unique().reset_index(name='zip_codes')\n",
    "\n",
    "# 'city_zip_codes' now contains a list of distinct zip codes for each city\n",
    "city_zip_codes"
   ]
  },
  {
   "cell_type": "code",
   "execution_count": null,
   "metadata": {},
   "outputs": [],
   "source": [
    "# Specify the target city\n",
    "target_city = 'København K'\n",
    "\n",
    "# Find the row for the target city\n",
    "city_row = city_zip_codes[city_zip_codes['city'] == target_city]\n",
    "\n",
    "# Check if the target city exists in the DataFrame\n",
    "if not city_row.empty:\n",
    "    zip_codes_for_target_city = city_row['zip_codes'].iloc[0]\n",
    "    print(f\"Zip codes for {target_city}: {', '.join(map(str, zip_codes_for_target_city))}\")\n",
    "else:\n",
    "    print(f\"{target_city} not found in the grouped data\")\n"
   ]
  },
  {
   "cell_type": "code",
   "execution_count": null,
   "metadata": {},
   "outputs": [],
   "source": [
    "# Step 1: Calculate the mean sold price for each city\n",
    "mean_prices_city = alm_salg_df.groupby('city')['price'].mean().reset_index()\n",
    "\n",
    "# Step 2: Merge the mean sold price back into the original DataFrame\n",
    "alm_salg_df_groupbby_city = alm_salg_df.merge(mean_prices_city, on='city', suffixes=('', '_mean'))\n",
    "\n",
    "# Step 3: Create a heatmap\n",
    "plt.figure(figsize=(10, 8))\n",
    "sns.scatterplot(data=alm_salg_df_groupbby_city, x='longitude', y='latitude', hue='price_mean', palette='YlOrRd', s=20)\n",
    "plt.title('Heatmap of Apartments with Mean Sold Prices by City')\n",
    "plt.xlabel('Longitude')\n",
    "plt.ylabel('Latitude')\n",
    "plt.legend(title='Mean Sold Price', loc='upper right')\n",
    "plt.savefig('heatmap_meansold.pdf')\n",
    "plt.show()\n"
   ]
  },
  {
   "cell_type": "code",
   "execution_count": 178,
   "metadata": {},
   "outputs": [
    {
     "ename": "TypeError",
     "evalue": "'method' object does not support item assignment",
     "output_type": "error",
     "traceback": [
      "\u001b[0;31m---------------------------------------------------------------------------\u001b[0m",
      "\u001b[0;31mTypeError\u001b[0m                                 Traceback (most recent call last)",
      "Cell \u001b[0;32mIn[178], line 2\u001b[0m\n\u001b[1;32m      1\u001b[0m alm_salg_df_zipCode \u001b[38;5;241m=\u001b[39m alm_salg_df\u001b[38;5;241m.\u001b[39mcopy\n\u001b[0;32m----> 2\u001b[0m \u001b[43malm_salg_df_zipCode\u001b[49m\u001b[43m[\u001b[49m\u001b[38;5;124;43m'\u001b[39;49m\u001b[38;5;124;43mprice\u001b[39;49m\u001b[38;5;124;43m'\u001b[39;49m\u001b[43m]\u001b[49m \u001b[38;5;241m=\u001b[39m np\u001b[38;5;241m.\u001b[39mlog(alm_salg_df[\u001b[38;5;124m'\u001b[39m\u001b[38;5;124mprice\u001b[39m\u001b[38;5;124m'\u001b[39m])\n\u001b[1;32m      4\u001b[0m \u001b[38;5;66;03m#Step 1: Calculate the mean sold price for each city\u001b[39;00m\n\u001b[1;32m      5\u001b[0m mean_prices_zipCode \u001b[38;5;241m=\u001b[39m alm_salg_df_zipCode\u001b[38;5;241m.\u001b[39mgroupby(\u001b[38;5;124m'\u001b[39m\u001b[38;5;124mzipCode\u001b[39m\u001b[38;5;124m'\u001b[39m)[\u001b[38;5;124m'\u001b[39m\u001b[38;5;124mprice\u001b[39m\u001b[38;5;124m'\u001b[39m]\u001b[38;5;241m.\u001b[39mmean()\u001b[38;5;241m.\u001b[39mreset_index()\n",
      "\u001b[0;31mTypeError\u001b[0m: 'method' object does not support item assignment"
     ]
    }
   ],
   "source": [
    "alm_salg_df_zipCode = alm_salg_df.copy\n",
    "\n",
    "alm_salg_df_zipCode['price'] = np.log(alm_salg_df['price'])\n",
    "\n",
    "#Step 1: Calculate the mean sold price for each city\n",
    "mean_prices_zipCode = alm_salg_df_zipCode.groupby('zipCode')['price'].mean().reset_index()\n",
    "\n",
    "alm_salg_df_zipCode['price'] = alm_salg_df_zipCode['price']**10\n",
    "\n",
    "# Step 2: Merge the mean sold price back into the original DataFrame\n",
    "alm_salg_df_groupbby_zipCode = alm_salg_df_zipCode.merge(mean_prices_zipCode, on='zipCode', suffixes=('', '_mean'))\n",
    "\n",
    "# Step 3: Create a heatmap\n",
    "plt.figure(figsize=(10, 8))\n",
    "sns.scatterplot(data=alm_salg_df_groupbby_zipCode, x=('longitude'), y='latitude', hue='price_mean', palette='YlOrRd', s=20)\n",
    "plt.title('Heatmap of Apartments with Mean Sold Prices by zipCode')\n",
    "plt.xlabel('Longitude')\n",
    "plt.ylabel('Latitude')\n",
    "plt.legend(title='Mean Sold Price', loc='upper right')\n",
    "plt.savefig('heatmap_meansold.pdf')\n",
    "plt.show()\n"
   ]
  },
  {
   "cell_type": "markdown",
   "metadata": {},
   "source": [
    "Make this work with the \"ipyleaflet: Interactive maps in the Jupyter notebook\"\n"
   ]
  },
  {
   "cell_type": "code",
   "execution_count": null,
   "metadata": {},
   "outputs": [],
   "source": [
    "# Create a map centered at a specific location (you can change the coordinates)\n",
    "center = (latitude, longitude)\n",
    "m = Map(center=center, zoom=10, basemap=basemaps.Esri.NatGeoWorldMap)\n",
    "\n"
   ]
  },
  {
   "cell_type": "code",
   "execution_count": null,
   "metadata": {},
   "outputs": [],
   "source": [
    "for index, row in alm_salg_df.iterrows():\n",
    "    latitude = row['latitude']\n",
    "    longitude = row['longitude']\n",
    "    marker = Marker(location=(latitude, longitude), title=row['address'])\n",
    "    m.add_layer(marker)\n"
   ]
  },
  {
   "cell_type": "code",
   "execution_count": null,
   "metadata": {},
   "outputs": [],
   "source": [
    "m.add_control(LayersControl())\n",
    "m"
   ]
  },
  {
   "cell_type": "code",
   "execution_count": null,
   "metadata": {},
   "outputs": [],
   "source": [
    "plt.scatter(df['longitude'], df['latitude'], s= .01, alpha=.5, )"
   ]
  },
  {
   "cell_type": "code",
   "execution_count": null,
   "metadata": {},
   "outputs": [],
   "source": [
    "alm_salg_df[['city']].value_counts(normalize=True)"
   ]
  },
  {
   "cell_type": "markdown",
   "metadata": {},
   "source": [
    "<br>\n",
    "\n",
    "### Filtering så man sikre sig at Frb kommune salg er med"
   ]
  },
  {
   "cell_type": "code",
   "execution_count": null,
   "metadata": {},
   "outputs": [],
   "source": [
    "df[df['zipCode']==2000]"
   ]
  },
  {
   "cell_type": "markdown",
   "metadata": {},
   "source": [
    "<br>\n",
    "\n",
    "### kigger på de borliger der er slogt til mest for at tjekke om filtrering af outliers af boliger der er slogt til mere end 9 mio"
   ]
  },
  {
   "cell_type": "code",
   "execution_count": null,
   "metadata": {},
   "outputs": [],
   "source": [
    "print('top 10 most expencive appartment\\n',alm_salg_df['change'].nlargest(10))"
   ]
  },
  {
   "cell_type": "code",
   "execution_count": null,
   "metadata": {},
   "outputs": [],
   "source": []
  }
 ],
 "metadata": {
  "interpreter": {
   "hash": "b0fa6594d8f4cbf19f97940f81e996739fb7646882a419484c72d19e05852a7e"
  },
  "kernelspec": {
   "display_name": "apartment",
   "language": "python",
   "name": "python3"
  },
  "language_info": {
   "codemirror_mode": {
    "name": "ipython",
    "version": 3
   },
   "file_extension": ".py",
   "mimetype": "text/x-python",
   "name": "python",
   "nbconvert_exporter": "python",
   "pygments_lexer": "ipython3",
   "version": "3.10.12"
  }
 },
 "nbformat": 4,
 "nbformat_minor": 4
}
