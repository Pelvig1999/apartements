{
 "cells": [
  {
   "cell_type": "code",
   "execution_count": 33,
   "metadata": {},
   "outputs": [],
   "source": [
    "from ipyleaflet import Map, basemaps, basemap_to_tiles, GeoData, Marker, MarkerCluster"
   ]
  },
  {
   "cell_type": "code",
   "execution_count": 21,
   "metadata": {
    "tags": []
   },
   "outputs": [],
   "source": [
    "import pandas as pd\n",
    "import geopandas\n",
    "import matplotlib.pyplot as plt\n",
    "from geodatasets import get_path"
   ]
  },
  {
   "cell_type": "code",
   "execution_count": 24,
   "metadata": {
    "tags": []
   },
   "outputs": [
    {
     "data": {
      "text/html": [
       "<div>\n",
       "<style scoped>\n",
       "    .dataframe tbody tr th:only-of-type {\n",
       "        vertical-align: middle;\n",
       "    }\n",
       "\n",
       "    .dataframe tbody tr th {\n",
       "        vertical-align: top;\n",
       "    }\n",
       "\n",
       "    .dataframe thead th {\n",
       "        text-align: right;\n",
       "    }\n",
       "</style>\n",
       "<table border=\"1\" class=\"dataframe\">\n",
       "  <thead>\n",
       "    <tr style=\"text-align: right;\">\n",
       "      <th></th>\n",
       "      <th>estateId</th>\n",
       "      <th>address</th>\n",
       "      <th>zipCode</th>\n",
       "      <th>price</th>\n",
       "      <th>soldDate</th>\n",
       "      <th>propertyType</th>\n",
       "      <th>saleType</th>\n",
       "      <th>sqmPrice</th>\n",
       "      <th>rooms</th>\n",
       "      <th>size</th>\n",
       "      <th>...</th>\n",
       "      <th>change</th>\n",
       "      <th>guid</th>\n",
       "      <th>latitude</th>\n",
       "      <th>longitude</th>\n",
       "      <th>municipalityCode</th>\n",
       "      <th>estateCode</th>\n",
       "      <th>city</th>\n",
       "      <th>groupKey</th>\n",
       "      <th>canGetVR</th>\n",
       "      <th>bfEnr</th>\n",
       "    </tr>\n",
       "  </thead>\n",
       "  <tbody>\n",
       "    <tr>\n",
       "      <th>99208</th>\n",
       "      <td>0</td>\n",
       "      <td>Hørsholmsgade 8, 4. tv</td>\n",
       "      <td>2200</td>\n",
       "      <td>11947874</td>\n",
       "      <td>1992-01-06T23:00:00.000Z</td>\n",
       "      <td>3</td>\n",
       "      <td>Alm. Salg</td>\n",
       "      <td>225431.580</td>\n",
       "      <td>2.0</td>\n",
       "      <td>53</td>\n",
       "      <td>...</td>\n",
       "      <td>0.0</td>\n",
       "      <td>DA7226E2-F5C9-43D1-AEE6-F928CE45212E</td>\n",
       "      <td>55.690900</td>\n",
       "      <td>12.543945</td>\n",
       "      <td>101</td>\n",
       "      <td>260348</td>\n",
       "      <td>København N</td>\n",
       "      <td>1.0</td>\n",
       "      <td>True</td>\n",
       "      <td>6019808</td>\n",
       "    </tr>\n",
       "    <tr>\n",
       "      <th>99209</th>\n",
       "      <td>0</td>\n",
       "      <td>Peter Fabers Gade 41, 2. th</td>\n",
       "      <td>2200</td>\n",
       "      <td>250000</td>\n",
       "      <td>1992-01-03T23:00:00.000Z</td>\n",
       "      <td>3</td>\n",
       "      <td>Alm. Salg</td>\n",
       "      <td>5000.000</td>\n",
       "      <td>2.0</td>\n",
       "      <td>50</td>\n",
       "      <td>...</td>\n",
       "      <td>0.0</td>\n",
       "      <td>D9388837-4672-4B9A-A1FE-C65BB6397DD8</td>\n",
       "      <td>55.691830</td>\n",
       "      <td>12.556379</td>\n",
       "      <td>101</td>\n",
       "      <td>436128</td>\n",
       "      <td>København N</td>\n",
       "      <td>NaN</td>\n",
       "      <td>True</td>\n",
       "      <td>146895</td>\n",
       "    </tr>\n",
       "    <tr>\n",
       "      <th>99210</th>\n",
       "      <td>0</td>\n",
       "      <td>Øresundsvej 108, 1. tv</td>\n",
       "      <td>2300</td>\n",
       "      <td>351000</td>\n",
       "      <td>1992-01-02T23:00:00.000Z</td>\n",
       "      <td>3</td>\n",
       "      <td>Alm. Salg</td>\n",
       "      <td>5754.098</td>\n",
       "      <td>2.0</td>\n",
       "      <td>61</td>\n",
       "      <td>...</td>\n",
       "      <td>0.0</td>\n",
       "      <td>B18BD911-7FF3-4977-A46D-D324E247A543</td>\n",
       "      <td>55.661255</td>\n",
       "      <td>12.621660</td>\n",
       "      <td>101</td>\n",
       "      <td>661318</td>\n",
       "      <td>København S</td>\n",
       "      <td>NaN</td>\n",
       "      <td>True</td>\n",
       "      <td>133305</td>\n",
       "    </tr>\n",
       "  </tbody>\n",
       "</table>\n",
       "<p>3 rows × 21 columns</p>\n",
       "</div>"
      ],
      "text/plain": [
       "       estateId                      address  zipCode     price  \\\n",
       "99208         0       Hørsholmsgade 8, 4. tv     2200  11947874   \n",
       "99209         0  Peter Fabers Gade 41, 2. th     2200    250000   \n",
       "99210         0       Øresundsvej 108, 1. tv     2300    351000   \n",
       "\n",
       "                       soldDate  propertyType   saleType    sqmPrice  rooms  \\\n",
       "99208  1992-01-06T23:00:00.000Z             3  Alm. Salg  225431.580    2.0   \n",
       "99209  1992-01-03T23:00:00.000Z             3  Alm. Salg    5000.000    2.0   \n",
       "99210  1992-01-02T23:00:00.000Z             3  Alm. Salg    5754.098    2.0   \n",
       "\n",
       "       size  ...  change                                  guid   latitude  \\\n",
       "99208    53  ...     0.0  DA7226E2-F5C9-43D1-AEE6-F928CE45212E  55.690900   \n",
       "99209    50  ...     0.0  D9388837-4672-4B9A-A1FE-C65BB6397DD8  55.691830   \n",
       "99210    61  ...     0.0  B18BD911-7FF3-4977-A46D-D324E247A543  55.661255   \n",
       "\n",
       "       longitude  municipalityCode  estateCode         city groupKey  \\\n",
       "99208  12.543945               101      260348  København N      1.0   \n",
       "99209  12.556379               101      436128  København N      NaN   \n",
       "99210  12.621660               101      661318  København S      NaN   \n",
       "\n",
       "       canGetVR    bfEnr  \n",
       "99208      True  6019808  \n",
       "99209      True   146895  \n",
       "99210      True   133305  \n",
       "\n",
       "[3 rows x 21 columns]"
      ]
     },
     "execution_count": 24,
     "metadata": {},
     "output_type": "execute_result"
    }
   ],
   "source": [
    "df = pd.read_csv(\"bolig.csv.gzip\", compression=\"gzip\")\n",
    "df.tail(3)"
   ]
  },
  {
   "cell_type": "code",
   "execution_count": 25,
   "metadata": {
    "tags": []
   },
   "outputs": [],
   "source": [
    "alm_salg_df = df[df['saleType'] == 'Alm. Salg']"
   ]
  },
  {
   "cell_type": "code",
   "execution_count": 29,
   "metadata": {
    "tags": []
   },
   "outputs": [],
   "source": [
    "gdf = geopandas.GeoDataFrame(\n",
    "    alm_salg_df, geometry=geopandas.points_from_xy(alm_salg_df['longitude'],alm_salg_df['latitude']), crs=\"EPSG:4326\"\n",
    ")"
   ]
  },
  {
   "cell_type": "code",
   "execution_count": 30,
   "metadata": {
    "tags": []
   },
   "outputs": [
    {
     "data": {
      "text/html": [
       "<div>\n",
       "<style scoped>\n",
       "    .dataframe tbody tr th:only-of-type {\n",
       "        vertical-align: middle;\n",
       "    }\n",
       "\n",
       "    .dataframe tbody tr th {\n",
       "        vertical-align: top;\n",
       "    }\n",
       "\n",
       "    .dataframe thead th {\n",
       "        text-align: right;\n",
       "    }\n",
       "</style>\n",
       "<table border=\"1\" class=\"dataframe\">\n",
       "  <thead>\n",
       "    <tr style=\"text-align: right;\">\n",
       "      <th></th>\n",
       "      <th>groupKey</th>\n",
       "      <th>canGetVR</th>\n",
       "      <th>bfEnr</th>\n",
       "      <th>geometry</th>\n",
       "    </tr>\n",
       "  </thead>\n",
       "  <tbody>\n",
       "    <tr>\n",
       "      <th>99208</th>\n",
       "      <td>1.0</td>\n",
       "      <td>True</td>\n",
       "      <td>6019808</td>\n",
       "      <td>POINT (12.54395 55.69090)</td>\n",
       "    </tr>\n",
       "    <tr>\n",
       "      <th>99209</th>\n",
       "      <td>NaN</td>\n",
       "      <td>True</td>\n",
       "      <td>146895</td>\n",
       "      <td>POINT (12.55638 55.69183)</td>\n",
       "    </tr>\n",
       "    <tr>\n",
       "      <th>99210</th>\n",
       "      <td>NaN</td>\n",
       "      <td>True</td>\n",
       "      <td>133305</td>\n",
       "      <td>POINT (12.62166 55.66125)</td>\n",
       "    </tr>\n",
       "  </tbody>\n",
       "</table>\n",
       "</div>"
      ],
      "text/plain": [
       "       groupKey  canGetVR    bfEnr                   geometry\n",
       "99208       1.0      True  6019808  POINT (12.54395 55.69090)\n",
       "99209       NaN      True   146895  POINT (12.55638 55.69183)\n",
       "99210       NaN      True   133305  POINT (12.62166 55.66125)"
      ]
     },
     "execution_count": 30,
     "metadata": {},
     "output_type": "execute_result"
    }
   ],
   "source": [
    "gdf.iloc[:, -4:].tail(3)"
   ]
  },
  {
   "cell_type": "code",
   "execution_count": 31,
   "metadata": {
    "tags": []
   },
   "outputs": [],
   "source": [
    "# gdf['geometry'] = geopandas.points_from_xy(gdf['longitude'], gdf['latitude'])\n",
    "# gdf['geometry']\n"
   ]
  },
  {
   "cell_type": "code",
   "execution_count": 16,
   "metadata": {
    "tags": []
   },
   "outputs": [],
   "source": [
    "# Create a Map\n",
    "m = Map(center=(55.6761, 12.5683), zoom=12)\n",
    "\n",
    "# Assuming you have a valid GeoDataFrame 'gdf' with latitude and longitude columns\n",
    "geo_data = GeoData(\n",
    "    geo_dataframe=gdf,\n",
    "    style={\n",
    "        'color': 'black',\n",
    "        'radius': 8,\n",
    "        'fillColor': '#3366cc',\n",
    "        'opacity': 0.5,\n",
    "        'weight': 1.9,\n",
    "        'dashArray': '2',\n",
    "        'fillOpacity': 0.6\n",
    "    },\n",
    "    hover_style={'fillColor': 'red', 'fillOpacity': 0.2},\n",
    "    point_style={\n",
    "        'radius': 0.5,\n",
    "        'color': 'red',\n",
    "        'fillOpacity': 0.8,\n",
    "        'fillColor': 'blue',\n",
    "        'weight': 3\n",
    "    },\n",
    "    name='Release'\n",
    ")"
   ]
  },
  {
   "cell_type": "code",
   "execution_count": 43,
   "metadata": {
    "tags": []
   },
   "outputs": [
    {
     "data": {
      "text/html": [
       "<div>\n",
       "<style scoped>\n",
       "    .dataframe tbody tr th:only-of-type {\n",
       "        vertical-align: middle;\n",
       "    }\n",
       "\n",
       "    .dataframe tbody tr th {\n",
       "        vertical-align: top;\n",
       "    }\n",
       "\n",
       "    .dataframe thead th {\n",
       "        text-align: right;\n",
       "    }\n",
       "</style>\n",
       "<table border=\"1\" class=\"dataframe\">\n",
       "  <thead>\n",
       "    <tr style=\"text-align: right;\">\n",
       "      <th></th>\n",
       "      <th>longitude</th>\n",
       "      <th>latitude</th>\n",
       "    </tr>\n",
       "  </thead>\n",
       "  <tbody>\n",
       "    <tr>\n",
       "      <th>0</th>\n",
       "      <td>12.551123</td>\n",
       "      <td>55.684840</td>\n",
       "    </tr>\n",
       "    <tr>\n",
       "      <th>1</th>\n",
       "      <td>12.533304</td>\n",
       "      <td>55.693672</td>\n",
       "    </tr>\n",
       "    <tr>\n",
       "      <th>2</th>\n",
       "      <td>12.546504</td>\n",
       "      <td>55.679310</td>\n",
       "    </tr>\n",
       "    <tr>\n",
       "      <th>4</th>\n",
       "      <td>12.499296</td>\n",
       "      <td>55.672897</td>\n",
       "    </tr>\n",
       "    <tr>\n",
       "      <th>6</th>\n",
       "      <td>12.507760</td>\n",
       "      <td>55.681435</td>\n",
       "    </tr>\n",
       "    <tr>\n",
       "      <th>...</th>\n",
       "      <td>...</td>\n",
       "      <td>...</td>\n",
       "    </tr>\n",
       "    <tr>\n",
       "      <th>99206</th>\n",
       "      <td>12.543945</td>\n",
       "      <td>55.690900</td>\n",
       "    </tr>\n",
       "    <tr>\n",
       "      <th>99207</th>\n",
       "      <td>12.543945</td>\n",
       "      <td>55.690900</td>\n",
       "    </tr>\n",
       "    <tr>\n",
       "      <th>99208</th>\n",
       "      <td>12.543945</td>\n",
       "      <td>55.690900</td>\n",
       "    </tr>\n",
       "    <tr>\n",
       "      <th>99209</th>\n",
       "      <td>12.556379</td>\n",
       "      <td>55.691830</td>\n",
       "    </tr>\n",
       "    <tr>\n",
       "      <th>99210</th>\n",
       "      <td>12.621660</td>\n",
       "      <td>55.661255</td>\n",
       "    </tr>\n",
       "  </tbody>\n",
       "</table>\n",
       "<p>85613 rows × 2 columns</p>\n",
       "</div>"
      ],
      "text/plain": [
       "       longitude   latitude\n",
       "0      12.551123  55.684840\n",
       "1      12.533304  55.693672\n",
       "2      12.546504  55.679310\n",
       "4      12.499296  55.672897\n",
       "6      12.507760  55.681435\n",
       "...          ...        ...\n",
       "99206  12.543945  55.690900\n",
       "99207  12.543945  55.690900\n",
       "99208  12.543945  55.690900\n",
       "99209  12.556379  55.691830\n",
       "99210  12.621660  55.661255\n",
       "\n",
       "[85613 rows x 2 columns]"
      ]
     },
     "execution_count": 43,
     "metadata": {},
     "output_type": "execute_result"
    }
   ],
   "source": [
    "[Marker(center=, all dd for m in gdf[['longitude','latitude']].apply(lambda d: d[\"longi).tolist()[:5]]"
   ]
  },
  {
   "cell_type": "code",
   "execution_count": 37,
   "metadata": {
    "tags": []
   },
   "outputs": [
    {
     "ename": "TypeError",
     "evalue": "Marker.__init__() takes 1 positional argument but 2 were given",
     "output_type": "error",
     "traceback": [
      "\u001b[0;31m---------------------------------------------------------------------------\u001b[0m",
      "\u001b[0;31mTypeError\u001b[0m                                 Traceback (most recent call last)",
      "Cell \u001b[0;32mIn[37], line 2\u001b[0m\n\u001b[1;32m      1\u001b[0m marker_cluster \u001b[38;5;241m=\u001b[39m MarkerCluster(\n\u001b[0;32m----> 2\u001b[0m     markers\u001b[38;5;241m=\u001b[39m([Marker(m) \u001b[38;5;28;01mfor\u001b[39;00m m \u001b[38;5;129;01min\u001b[39;00m gdf[\u001b[38;5;124m\"\u001b[39m\u001b[38;5;124mgeometry\u001b[39m\u001b[38;5;124m\"\u001b[39m]\u001b[38;5;241m.\u001b[39mtolist()])\n\u001b[1;32m      3\u001b[0m )\n",
      "Cell \u001b[0;32mIn[37], line 2\u001b[0m, in \u001b[0;36m<listcomp>\u001b[0;34m(.0)\u001b[0m\n\u001b[1;32m      1\u001b[0m marker_cluster \u001b[38;5;241m=\u001b[39m MarkerCluster(\n\u001b[0;32m----> 2\u001b[0m     markers\u001b[38;5;241m=\u001b[39m([\u001b[43mMarker\u001b[49m\u001b[43m(\u001b[49m\u001b[43mm\u001b[49m\u001b[43m)\u001b[49m \u001b[38;5;28;01mfor\u001b[39;00m m \u001b[38;5;129;01min\u001b[39;00m gdf[\u001b[38;5;124m\"\u001b[39m\u001b[38;5;124mgeometry\u001b[39m\u001b[38;5;124m\"\u001b[39m]\u001b[38;5;241m.\u001b[39mtolist()])\n\u001b[1;32m      3\u001b[0m )\n",
      "\u001b[0;31mTypeError\u001b[0m: Marker.__init__() takes 1 positional argument but 2 were given"
     ]
    }
   ],
   "source": [
    "marker_cluster = MarkerCluster(\n",
    "    markers=()\n",
    ")"
   ]
  },
  {
   "cell_type": "code",
   "execution_count": 16,
   "metadata": {
    "tags": []
   },
   "outputs": [
    {
     "data": {
      "application/vnd.jupyter.widget-view+json": {
       "model_id": "d7bf80cd2b62420db1a9d32513f25d20",
       "version_major": 2,
       "version_minor": 0
      },
      "text/plain": [
       "Map(center=[55.6761, 12.5683], controls=(ZoomControl(options=['position', 'zoom_in_text', 'zoom_in_title', 'zo…"
      ]
     },
     "execution_count": 16,
     "metadata": {},
     "output_type": "execute_result"
    }
   ],
   "source": [
    "# Add the GeoData layer to the map\n",
    "m.add_layer(geo_data)\n",
    "\n",
    "# Display the map\n",
    "m"
   ]
  },
  {
   "cell_type": "code",
   "execution_count": null,
   "metadata": {},
   "outputs": [],
   "source": []
  },
  {
   "cell_type": "code",
   "execution_count": null,
   "metadata": {},
   "outputs": [],
   "source": []
  },
  {
   "cell_type": "code",
   "execution_count": 14,
   "metadata": {},
   "outputs": [
    {
     "data": {
      "application/vnd.jupyter.widget-view+json": {
       "model_id": "2f35391b78b143b2836ee2e94cda167e",
       "version_major": 2,
       "version_minor": 0
      },
      "text/plain": [
       "Map(center=[55.6761, 12.5683], controls=(ZoomControl(options=['position', 'zoom_in_text', 'zoom_in_title', 'zo…"
      ]
     },
     "execution_count": 14,
     "metadata": {},
     "output_type": "execute_result"
    }
   ],
   "source": []
  },
  {
   "cell_type": "code",
   "execution_count": null,
   "metadata": {},
   "outputs": [],
   "source": []
  }
 ],
 "metadata": {
  "kernelspec": {
   "display_name": "apartment",
   "language": "python",
   "name": "python3"
  },
  "language_info": {
   "codemirror_mode": {
    "name": "ipython",
    "version": 3
   },
   "file_extension": ".py",
   "mimetype": "text/x-python",
   "name": "python",
   "nbconvert_exporter": "python",
   "pygments_lexer": "ipython3",
   "version": "3.10.12"
  }
 },
 "nbformat": 4,
 "nbformat_minor": 4
}
