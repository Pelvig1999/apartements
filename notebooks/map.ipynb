{
 "cells": [
  {
   "cell_type": "code",
   "execution_count": 1,
   "metadata": {
    "tags": []
   },
   "outputs": [
    {
     "name": "stdout",
     "output_type": "stream",
     "text": [
      "/Users/sofiepelvig/apartments/notebooks\n"
     ]
    }
   ],
   "source": [
    "!pwd"
   ]
  },
  {
   "cell_type": "code",
   "execution_count": 2,
   "metadata": {
    "tags": []
   },
   "outputs": [
    {
     "name": "stdout",
     "output_type": "stream",
     "text": [
      "/Users/sofiepelvig/apartments\n"
     ]
    }
   ],
   "source": [
    "%cd .."
   ]
  },
  {
   "cell_type": "code",
   "execution_count": 3,
   "metadata": {
    "tags": []
   },
   "outputs": [],
   "source": [
    "from ipyleaflet import (Map, basemaps, basemap_to_tiles, \n",
    "                        GeoData, Marker, MarkerCluster)\n",
    "\n",
    "import pandas as pd\n",
    "import geopandas\n",
    "import matplotlib.pyplot as plt\n",
    "from geodatasets import get_path"
   ]
  },
  {
   "cell_type": "code",
   "execution_count": 4,
   "metadata": {
    "tags": []
   },
   "outputs": [
    {
     "data": {
      "text/html": [
       "<div>\n",
       "<style scoped>\n",
       "    .dataframe tbody tr th:only-of-type {\n",
       "        vertical-align: middle;\n",
       "    }\n",
       "\n",
       "    .dataframe tbody tr th {\n",
       "        vertical-align: top;\n",
       "    }\n",
       "\n",
       "    .dataframe thead th {\n",
       "        text-align: right;\n",
       "    }\n",
       "</style>\n",
       "<table border=\"1\" class=\"dataframe\">\n",
       "  <thead>\n",
       "    <tr style=\"text-align: right;\">\n",
       "      <th></th>\n",
       "      <th>estateId</th>\n",
       "      <th>address</th>\n",
       "      <th>zipCode</th>\n",
       "      <th>price</th>\n",
       "      <th>soldDate</th>\n",
       "      <th>propertyType</th>\n",
       "      <th>saleType</th>\n",
       "      <th>sqmPrice</th>\n",
       "      <th>rooms</th>\n",
       "      <th>size</th>\n",
       "      <th>...</th>\n",
       "      <th>change</th>\n",
       "      <th>guid</th>\n",
       "      <th>latitude</th>\n",
       "      <th>longitude</th>\n",
       "      <th>municipalityCode</th>\n",
       "      <th>estateCode</th>\n",
       "      <th>city</th>\n",
       "      <th>groupKey</th>\n",
       "      <th>canGetVR</th>\n",
       "      <th>bfEnr</th>\n",
       "    </tr>\n",
       "  </thead>\n",
       "  <tbody>\n",
       "    <tr>\n",
       "      <th>99208</th>\n",
       "      <td>0</td>\n",
       "      <td>Hørsholmsgade 8, 4. tv</td>\n",
       "      <td>2200</td>\n",
       "      <td>11947874</td>\n",
       "      <td>1992-01-06 23:00:00+00:00</td>\n",
       "      <td>3</td>\n",
       "      <td>Alm. Salg</td>\n",
       "      <td>225431.580</td>\n",
       "      <td>2.0</td>\n",
       "      <td>53</td>\n",
       "      <td>...</td>\n",
       "      <td>0.0</td>\n",
       "      <td>DA7226E2-F5C9-43D1-AEE6-F928CE45212E</td>\n",
       "      <td>55.690900</td>\n",
       "      <td>12.543945</td>\n",
       "      <td>101</td>\n",
       "      <td>260348</td>\n",
       "      <td>København N</td>\n",
       "      <td>1.0</td>\n",
       "      <td>True</td>\n",
       "      <td>6019808</td>\n",
       "    </tr>\n",
       "    <tr>\n",
       "      <th>99209</th>\n",
       "      <td>0</td>\n",
       "      <td>Peter Fabers Gade 41, 2. th</td>\n",
       "      <td>2200</td>\n",
       "      <td>250000</td>\n",
       "      <td>1992-01-03 23:00:00+00:00</td>\n",
       "      <td>3</td>\n",
       "      <td>Alm. Salg</td>\n",
       "      <td>5000.000</td>\n",
       "      <td>2.0</td>\n",
       "      <td>50</td>\n",
       "      <td>...</td>\n",
       "      <td>0.0</td>\n",
       "      <td>D9388837-4672-4B9A-A1FE-C65BB6397DD8</td>\n",
       "      <td>55.691830</td>\n",
       "      <td>12.556379</td>\n",
       "      <td>101</td>\n",
       "      <td>436128</td>\n",
       "      <td>København N</td>\n",
       "      <td>NaN</td>\n",
       "      <td>True</td>\n",
       "      <td>146895</td>\n",
       "    </tr>\n",
       "    <tr>\n",
       "      <th>99210</th>\n",
       "      <td>0</td>\n",
       "      <td>Øresundsvej 108, 1. tv</td>\n",
       "      <td>2300</td>\n",
       "      <td>351000</td>\n",
       "      <td>1992-01-02 23:00:00+00:00</td>\n",
       "      <td>3</td>\n",
       "      <td>Alm. Salg</td>\n",
       "      <td>5754.098</td>\n",
       "      <td>2.0</td>\n",
       "      <td>61</td>\n",
       "      <td>...</td>\n",
       "      <td>0.0</td>\n",
       "      <td>B18BD911-7FF3-4977-A46D-D324E247A543</td>\n",
       "      <td>55.661255</td>\n",
       "      <td>12.621660</td>\n",
       "      <td>101</td>\n",
       "      <td>661318</td>\n",
       "      <td>København S</td>\n",
       "      <td>NaN</td>\n",
       "      <td>True</td>\n",
       "      <td>133305</td>\n",
       "    </tr>\n",
       "  </tbody>\n",
       "</table>\n",
       "<p>3 rows × 21 columns</p>\n",
       "</div>"
      ],
      "text/plain": [
       "       estateId                      address  zipCode     price  \\\n",
       "99208         0       Hørsholmsgade 8, 4. tv     2200  11947874   \n",
       "99209         0  Peter Fabers Gade 41, 2. th     2200    250000   \n",
       "99210         0       Øresundsvej 108, 1. tv     2300    351000   \n",
       "\n",
       "                       soldDate  propertyType   saleType    sqmPrice  rooms  \\\n",
       "99208 1992-01-06 23:00:00+00:00             3  Alm. Salg  225431.580    2.0   \n",
       "99209 1992-01-03 23:00:00+00:00             3  Alm. Salg    5000.000    2.0   \n",
       "99210 1992-01-02 23:00:00+00:00             3  Alm. Salg    5754.098    2.0   \n",
       "\n",
       "       size  ...  change                                  guid   latitude  \\\n",
       "99208    53  ...     0.0  DA7226E2-F5C9-43D1-AEE6-F928CE45212E  55.690900   \n",
       "99209    50  ...     0.0  D9388837-4672-4B9A-A1FE-C65BB6397DD8  55.691830   \n",
       "99210    61  ...     0.0  B18BD911-7FF3-4977-A46D-D324E247A543  55.661255   \n",
       "\n",
       "       longitude  municipalityCode  estateCode         city groupKey  \\\n",
       "99208  12.543945               101      260348  København N      1.0   \n",
       "99209  12.556379               101      436128  København N      NaN   \n",
       "99210  12.621660               101      661318  København S      NaN   \n",
       "\n",
       "       canGetVR    bfEnr  \n",
       "99208      True  6019808  \n",
       "99209      True   146895  \n",
       "99210      True   133305  \n",
       "\n",
       "[3 rows x 21 columns]"
      ]
     },
     "execution_count": 4,
     "metadata": {},
     "output_type": "execute_result"
    }
   ],
   "source": [
    "df = pd.read_csv(\"assets/data/bolig.csv.gzip\", compression=\"gzip\", parse_dates=[\"soldDate\"])\n",
    "df.tail(3)"
   ]
  },
  {
   "cell_type": "code",
   "execution_count": 5,
   "metadata": {
    "tags": []
   },
   "outputs": [],
   "source": [
    "alm_salg_df = df[df['saleType'].eq('Alm. Salg')]"
   ]
  },
  {
   "cell_type": "code",
   "execution_count": null,
   "metadata": {
    "tags": []
   },
   "outputs": [],
   "source": [
    "%%time\n",
    "\n",
    "# SAMPLE =20_000\n",
    "YEAR = 2008  # greater or equal to <=\n",
    "markers = (\n",
    "    alm_salg_df\n",
    "     .loc[lambda d: d[\"soldDate\"].dt.year.ge(YEAR)]\n",
    "     .assign(location=lambda d: d[[\"latitude\", \"longitude\"]].agg(\n",
    "         lambda d: (d[\"latitude\"], d[\"longitude\"]) ,axis=1),  # (latitude, longitude)\n",
    "            title = lambda d: d[[\"address\", \"zipCode\"]].agg(\n",
    "         lambda d: f'{d[\"address\"]}, {d[\"zipCode\"]}' ,axis=1), # title will be address\n",
    "          alt = (lambda d: d[[\"price\", \"size\", \"rooms\" , \"buildYear\"]].agg(\n",
    "         lambda d: f'price: {d[\"price\"]}, size: {d[\"size\"]}, rooms: {d[\"rooms\"]}, build year: {d[\"buildYear\"]}' ,axis=1))  # title will be address\n",
    "    )\n",
    "    .loc[:, [\"location\", \"title\", \"alt\"]]\n",
    "    # .sample(SAMPLE)\n",
    "    .agg(lambda d: Marker(location=d[\"location\"], title=d[\"title\"], alt=d[\"alt\"]), axis=1)\n",
    ")"
   ]
  },
  {
   "cell_type": "code",
   "execution_count": 7,
   "metadata": {
    "tags": []
   },
   "outputs": [
    {
     "data": {
      "text/plain": [
       "76898"
      ]
     },
     "execution_count": 7,
     "metadata": {},
     "output_type": "execute_result"
    }
   ],
   "source": [
    "markers.shape[0]"
   ]
  },
  {
   "cell_type": "code",
   "execution_count": 8,
   "metadata": {
    "tags": []
   },
   "outputs": [],
   "source": [
    "#creating the map and centering it at sofie\n",
    "# 55.692205626007144, 12.545636686596445\n",
    "m = Map(center=(55.69220562, 12.5456366), zoom=15)"
   ]
  },
  {
   "cell_type": "code",
   "execution_count": 9,
   "metadata": {
    "tags": []
   },
   "outputs": [],
   "source": [
    "#adding the markers as a cluster \n",
    "marker_cluster = MarkerCluster(\n",
    "    markers=markers.tolist()\n",
    ")"
   ]
  },
  {
   "cell_type": "code",
   "execution_count": 10,
   "metadata": {
    "tags": []
   },
   "outputs": [
    {
     "data": {
      "application/vnd.jupyter.widget-view+json": {
       "model_id": "414bb8932785417e88271f35aa583cdc",
       "version_major": 2,
       "version_minor": 0
      },
      "text/plain": [
       "Map(center=[55.69220562, 12.5456366], controls=(ZoomControl(options=['position', 'zoom_in_text', 'zoom_in_titl…"
      ]
     },
     "execution_count": 10,
     "metadata": {},
     "output_type": "execute_result"
    }
   ],
   "source": [
    "# Add the GeoData layer to the map\n",
    "m.add_layer(marker_cluster)\n",
    "\n",
    "# Display the map\n",
    "m"
   ]
  },
  {
   "cell_type": "code",
   "execution_count": null,
   "metadata": {},
   "outputs": [],
   "source": [
    "1 + 1"
   ]
  },
  {
   "cell_type": "code",
   "execution_count": null,
   "metadata": {},
   "outputs": [],
   "source": [
    "markers.isna().sum()"
   ]
  },
  {
   "cell_type": "code",
   "execution_count": null,
   "metadata": {},
   "outputs": [],
   "source": []
  }
 ],
 "metadata": {
  "kernelspec": {
   "display_name": "apartment",
   "language": "python",
   "name": "python3"
  },
  "language_info": {
   "codemirror_mode": {
    "name": "ipython",
    "version": 3
   },
   "file_extension": ".py",
   "mimetype": "text/x-python",
   "name": "python",
   "nbconvert_exporter": "python",
   "pygments_lexer": "ipython3",
   "version": "3.10.12"
  }
 },
 "nbformat": 4,
 "nbformat_minor": 4
}
